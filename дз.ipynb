{
  "nbformat": 4,
  "nbformat_minor": 0,
  "metadata": {
    "colab": {
      "provenance": []
    },
    "kernelspec": {
      "name": "python3",
      "display_name": "Python 3"
    },
    "language_info": {
      "name": "python"
    }
  },
  "cells": [
    {
      "cell_type": "markdown",
      "source": [
        "##1. Ускорение преобразования Фурье"
      ],
      "metadata": {
        "id": "ODhm0j6_fqwP"
      }
    },
    {
      "cell_type": "markdown",
      "source": [
        "1.1"
      ],
      "metadata": {
        "id": "YBH3qlATVfsO"
      }
    },
    {
      "cell_type": "code",
      "execution_count": null,
      "metadata": {
        "id": "oKEhAhfFTzq7"
      },
      "outputs": [],
      "source": [
        "import numpy as np\n",
        "import random\n",
        "import time"
      ]
    },
    {
      "cell_type": "code",
      "source": [
        "num = np.random.rand(4096)\n",
        "\n",
        "start_time = time.time()\n",
        "result = np.fft.fft(num)\n",
        "end_time = time.time()\n",
        "\n",
        "print(\"Время выполнения FFT:\", end_time - start_time, \"секунд\")"
      ],
      "metadata": {
        "colab": {
          "base_uri": "https://localhost:8080/"
        },
        "id": "edH5SqROUgiY",
        "outputId": "e1553ede-a906-4942-a091-57f33b30a5fb"
      },
      "execution_count": null,
      "outputs": [
        {
          "output_type": "stream",
          "name": "stdout",
          "text": [
            "Время выполнения FFT: 0.0005011558532714844 секунд\n"
          ]
        }
      ]
    },
    {
      "cell_type": "markdown",
      "source": [
        "1.2"
      ],
      "metadata": {
        "id": "y5ZDrnM2VjRQ"
      }
    },
    {
      "cell_type": "code",
      "source": [
        "num1 = np.random.rand(4096)\n",
        "num2 = np.random.rand(4096)\n",
        "\n",
        "start_time = time.time()\n",
        "result1 = np.fft.fft(num1)\n",
        "result2 = np.fft.fft(num2)\n",
        "end_time = time.time()\n",
        "\n",
        "print(\"Время выполнения FFT:\", end_time - start_time, \"секунд\")"
      ],
      "metadata": {
        "colab": {
          "base_uri": "https://localhost:8080/"
        },
        "id": "UBIckNhnUpPq",
        "outputId": "8e84e6d9-ee6a-4219-eb3b-a9e3be31cbf5"
      },
      "execution_count": null,
      "outputs": [
        {
          "output_type": "stream",
          "name": "stdout",
          "text": [
            "Время выполнения FFT: 0.0010251998901367188 секунд\n"
          ]
        }
      ]
    },
    {
      "cell_type": "markdown",
      "source": [
        "1.3"
      ],
      "metadata": {
        "id": "YBZBWTRIWBUR"
      }
    },
    {
      "cell_type": "markdown",
      "source": [
        "Программа для замера времени выполнения каждого из потоков"
      ],
      "metadata": {
        "id": "B2Q2b3ykdQ4l"
      }
    },
    {
      "cell_type": "code",
      "source": [
        "import threading\n",
        "\n",
        "def perform_fft(sequence, thread_id):\n",
        "    start_time = time.time()\n",
        "    result = np.fft.fft(sequence)\n",
        "    end_time = time.time()\n",
        "    print(f\"Поток {thread_id}\\nВремя выполнения FFT: {end_time - start_time} с\\n\")\n",
        "    return result\n",
        "\n",
        "# Генерация случайных последовательностей\n",
        "num1 = np.random.rand(4096)\n",
        "num2 = np.random.rand(4096)\n",
        "\n",
        "# Создаем потоки\n",
        "thread1 = threading.Thread(target=perform_fft, args=(num1, 1))\n",
        "thread2 = threading.Thread(target=perform_fft, args=(num2, 2))\n",
        "\n",
        "thread1.start()\n",
        "thread2.start()\n",
        "thread1.join()\n",
        "thread2.join()\n",
        "\n"
      ],
      "metadata": {
        "colab": {
          "base_uri": "https://localhost:8080/"
        },
        "id": "eJ0uN4COVvya",
        "outputId": "0274d803-1cdc-49ff-8fa9-81f98c7b90bc"
      },
      "execution_count": null,
      "outputs": [
        {
          "output_type": "stream",
          "name": "stdout",
          "text": [
            "Поток 1\n",
            "Время выполнения FFT: 0.000308990478515625 с\n",
            "\n",
            "Поток 2\n",
            "Время выполнения FFT: 0.00033783912658691406 с\n",
            "\n"
          ]
        }
      ]
    },
    {
      "cell_type": "markdown",
      "source": [
        "Программа для замера времени выполнения программы в целом (программы разделены, тк  print замедляет выполнение функции)"
      ],
      "metadata": {
        "id": "0AuaiurAc_eO"
      }
    },
    {
      "cell_type": "code",
      "source": [
        "def perform_fft(sequence, thread_id):\n",
        "    result = np.fft.fft(sequence)\n",
        "    return result\n",
        "\n",
        "# Генерация случайных последовательностей\n",
        "num1 = np.random.rand(4096)\n",
        "num2 = np.random.rand(4096)\n",
        "\n",
        "# Создаем потоки\n",
        "thread1 = threading.Thread(target=perform_fft, args=(num1, 1))\n",
        "thread2 = threading.Thread(target=perform_fft, args=(num2, 2))\n",
        "\n",
        "program_start_time = time.time()\n",
        "thread1.start()\n",
        "thread2.start()\n",
        "thread1.join()\n",
        "thread2.join()\n",
        "program_end_time = time.time()\n",
        "\n",
        "print(f\"Общее время выполнения программы: {program_end_time - program_start_time:} с\")"
      ],
      "metadata": {
        "colab": {
          "base_uri": "https://localhost:8080/"
        },
        "id": "H2C_nKVfcH4g",
        "outputId": "d5e33f7e-aaba-42b9-8118-095211250c2a"
      },
      "execution_count": null,
      "outputs": [
        {
          "output_type": "stream",
          "name": "stdout",
          "text": [
            "Общее время выполнения программы: 0.0015728473663330078 с\n"
          ]
        }
      ]
    },
    {
      "cell_type": "markdown",
      "source": [
        "##Вывод:\n",
        "Время последовательного выполнения преобразования Фурье над двумя случайными последовательностями составило 0.0010251998901367188 с, что приблизительно в 2 раза превышает время выполнения одного преобразования Фурье.\n",
        "Время выполнения Фурье-преобразования над двумя последовательностями из 4096 случаных чисел, при обработке каждой последовательности в отдельном потоке оказалось немного выше аналогичного значения для пункта 1.2. Возможное объяснение этому заключается в том, что из-за Python Global Interpreter Lock (GIL), при использовании многопоточности для вычисления чисто процессорного кода Python общее время обработки не сокращается. Официальная документация объясняет это тем, что GIL препятствует одновременному выполнению потоков, что приводит к неполному использованию процессора."
      ],
      "metadata": {
        "id": "LLipEKt8djh0"
      }
    },
    {
      "cell_type": "markdown",
      "source": [
        "##2. Ускорение ожидания преобразования Фурье"
      ],
      "metadata": {
        "id": "0YsqAvkbf0qi"
      }
    },
    {
      "cell_type": "markdown",
      "source": [
        "2.1"
      ],
      "metadata": {
        "id": "Znofn77Pf36L"
      }
    },
    {
      "cell_type": "code",
      "source": [
        "num = np.random.rand(4096)\n",
        "\n",
        "start_time = time.time()\n",
        "result = np.fft.fft(num)\n",
        "time.sleep(2)\n",
        "end_time = time.time()\n",
        "\n",
        "print(\"Общее время выполнения программы:\", end_time - start_time, \"секунд\")"
      ],
      "metadata": {
        "colab": {
          "base_uri": "https://localhost:8080/"
        },
        "id": "I386oTgsc7tz",
        "outputId": "c3146111-374e-4bc7-8f6a-02e6779d7961"
      },
      "execution_count": null,
      "outputs": [
        {
          "output_type": "stream",
          "name": "stdout",
          "text": [
            "Общее время выполнения программы: 2.003744125366211 секунд\n"
          ]
        }
      ]
    },
    {
      "cell_type": "markdown",
      "source": [
        "2.2"
      ],
      "metadata": {
        "id": "fUFfExkOhk5S"
      }
    },
    {
      "cell_type": "markdown",
      "source": [
        "Программа для замера времени выполнения каждого из потоков"
      ],
      "metadata": {
        "id": "QZCQepSwihia"
      }
    },
    {
      "cell_type": "code",
      "source": [
        "def perform_fft_with_sleep(sequence, thread_id):\n",
        "    start_time = time.time()\n",
        "    fft_result = np.fft.fft(sequence)\n",
        "    time.sleep(2)\n",
        "    end_time = time.time()\n",
        "    print(f\"Поток {thread_id}\\nВремя выполнения FFT с ожиданием: {end_time - start_time:} с\")\n",
        "    return fft_result\n",
        "\n",
        "def perform_fft_without_sleep(sequence, thread_id):\n",
        "    start_time = time.time()\n",
        "    fft_result = np.fft.fft(sequence)\n",
        "    end_time = time.time()\n",
        "    print(f\"Поток {thread_id}\\nВремя выполнения FFT без ожидания: {end_time - start_time:} с\")\n",
        "    return fft_result\n",
        "\n",
        "sequence1 = np.random.rand(4096)\n",
        "sequence2 = np.random.rand(4096)\n",
        "\n",
        "thread1 = threading.Thread(target=perform_fft_with_sleep, args=(sequence1, 1))\n",
        "thread2 = threading.Thread(target=perform_fft_without_sleep, args=(sequence2, 2))\n",
        "\n",
        "thread1.start()\n",
        "thread2.start()\n",
        "\n",
        "thread1.join()\n",
        "thread2.join()"
      ],
      "metadata": {
        "colab": {
          "base_uri": "https://localhost:8080/"
        },
        "id": "IzTiHc8ggPFP",
        "outputId": "3701d351-3bba-44fd-ed97-44f599946655"
      },
      "execution_count": null,
      "outputs": [
        {
          "output_type": "stream",
          "name": "stdout",
          "text": [
            "Поток 2\n",
            "Время выполнения FFT без ожидания: 0.0002357959747314453 с\n",
            "Поток 1\n",
            "Время выполнения FFT с ожиданием: 2.0023374557495117 с\n"
          ]
        }
      ]
    },
    {
      "cell_type": "markdown",
      "source": [
        "Программа для замера времени выполнения программы в целом"
      ],
      "metadata": {
        "id": "_j0E0ZVch6Su"
      }
    },
    {
      "cell_type": "code",
      "source": [
        "def perform_fft_with_sleep(sequence, thread_id):\n",
        "  fft_result = np.fft.fft(sequence)\n",
        "  time.sleep(2)\n",
        "  return fft_result\n",
        "\n",
        "def perform_fft_without_sleep(sequence, thread_id):\n",
        "  fft_result = np.fft.fft(sequence)\n",
        "  return fft_result\n",
        "\n",
        "# Генерация случайных последовательностей\n",
        "num1 = np.random.rand(4096)\n",
        "num2 = np.random.rand(4096)\n",
        "\n",
        "thread1 = threading.Thread(target=perform_fft_with_sleep, args=(sequence1, 1))\n",
        "thread2 = threading.Thread(target=perform_fft_without_sleep, args=(sequence2, 2))\n",
        "\n",
        "program_start_time = time.time()\n",
        "\n",
        "thread1.start()\n",
        "thread2.start()\n",
        "thread1.join()\n",
        "thread2.join()\n",
        "\n",
        "program_end_time = time.time()\n",
        "print(f\"Общее время выполнения программы: {program_end_time - program_start_time:} с\")"
      ],
      "metadata": {
        "colab": {
          "base_uri": "https://localhost:8080/"
        },
        "id": "fBNyxC0Rh7Rf",
        "outputId": "e60a5edf-b297-44a7-d315-836c2fbc2ee6"
      },
      "execution_count": null,
      "outputs": [
        {
          "output_type": "stream",
          "name": "stdout",
          "text": [
            "Общее время выполнения программы: 2.0029261112213135 с\n"
          ]
        }
      ]
    },
    {
      "cell_type": "markdown",
      "source": [
        "##Вывод:\n",
        "Замеры времени:\n",
        "Время исполнения программы 2.1:  2.00374 с\n",
        "\n",
        "Время исполнения программы 2.2 (многопоточная): 2.002926 с\n",
        "\n",
        "Время исполнения потока без ожидания: 0.0002357 с\n",
        "\n",
        "Время исполнения потока с ожиданием: 2.0023375 с\n",
        "\n",
        "В первом случае (2.1) программа выполняет преобразование Фурье, а затем ожидает 2 секунды. Общее время выполнения будет включать время на вычисление преобразования Фурье плюс 2 секунды ожидания.\n",
        "Во втором случае (2.2) программа запускает два потока параллельно. Первый поток выполняет преобразование Фурье и затем ожидает 2 секунды, а второй поток только выполняет преобразование Фурье. Время выполнения первого потока будет аналогично времени выполнения в первом случае. Второй поток завершится быстрее, поскольку он не содержит задержки. Общее время выполнения программы будет примерно равно времени выполнения первого потока, так как второй поток завершится раньше."
      ],
      "metadata": {
        "id": "7_QHx_XVj6zm"
      }
    },
    {
      "cell_type": "markdown",
      "source": [
        "## 3. Исследуем объем используемой динамической памяти\n",
        "\n"
      ],
      "metadata": {
        "id": "b07xJ3cQx0Om"
      }
    },
    {
      "cell_type": "code",
      "source": [
        "# gc.collect()"
      ],
      "metadata": {
        "id": "oF0qJzG6iP90",
        "colab": {
          "base_uri": "https://localhost:8080/"
        },
        "outputId": "05882d9f-3996-4e64-c1cc-4da2e8acde57"
      },
      "execution_count": null,
      "outputs": [
        {
          "output_type": "execute_result",
          "data": {
            "text/plain": [
              "24488"
            ]
          },
          "metadata": {},
          "execution_count": 16
        }
      ]
    },
    {
      "cell_type": "markdown",
      "source": [
        "3.1"
      ],
      "metadata": {
        "id": "flSRwJ6uyEli"
      }
    },
    {
      "cell_type": "code",
      "source": [
        "import psutil\n",
        "import os\n",
        "import gc\n",
        "import matplotlib.pyplot as plt\n",
        "\n",
        "process = psutil.Process(os.getpid())\n",
        "\n",
        "data_list = []\n",
        "memory_usage_list = []\n",
        "memory_usage = process.memory_info().rss / 1024 ** 2  # Память в мб\n",
        "memory_usage_list.append(memory_usage)\n",
        "\n",
        "# Заполнение списка и замер памяти\n",
        "for i in range(1, 16385):\n",
        "    data_list.append(i)\n",
        "    memory_usage = process.memory_info().rss / 1024 ** 2  # Память в мб\n",
        "    memory_usage_list.append(memory_usage)\n",
        "\n",
        "plt.plot(range(0, 16385), memory_usage_list)\n",
        "plt.xlabel('Итерация')\n",
        "plt.ylabel('Используемая память (МБ)')\n",
        "plt.title('Использование памяти списком')\n",
        "plt.show()\n"
      ],
      "metadata": {
        "colab": {
          "base_uri": "https://localhost:8080/",
          "height": 472
        },
        "id": "Yxcx4-qTj1md",
        "outputId": "050dbaa2-a9ee-4045-8e6f-6964b540e498"
      },
      "execution_count": null,
      "outputs": [
        {
          "output_type": "display_data",
          "data": {
            "text/plain": [
              "<Figure size 640x480 with 1 Axes>"
            ],
            "image/png": "[encoded data removed]"
          },
          "metadata": {}
        }
      ]
    },
    {
      "cell_type": "markdown",
      "source": [
        "3.2"
      ],
      "metadata": {
        "id": "wDqvsqDuyQtu"
      }
    },
    {
      "cell_type": "code",
      "source": [
        "import random\n",
        "\n",
        "process = psutil.Process(os.getpid())\n",
        "\n",
        "data_dict = {}\n",
        "memory_usage_dict = []\n",
        "memory_usage = process.memory_info().rss / 1024 ** 2  # Память в мб\n",
        "memory_usage_dict.append(memory_usage)\n",
        "\n",
        "for i in range(1, 16385):\n",
        "    key = random.randint(1, 10000)\n",
        "    value = random.randint(1, 10000)\n",
        "    data_dict[key] = value\n",
        "    memory_usage = process.memory_info().rss / 1024 ** 2  # Память в мб\n",
        "    memory_usage_dict.append(memory_usage)\n",
        "\n",
        "plt.plot(range(0, 16385), memory_usage_dict)\n",
        "plt.xlabel('Итерация')\n",
        "plt.ylabel('Используемая память (МБ)')\n",
        "plt.title('Использование памяти словарем')\n",
        "plt.show()\n"
      ],
      "metadata": {
        "colab": {
          "base_uri": "https://localhost:8080/",
          "height": 472
        },
        "id": "beolgKbIq5tT",
        "outputId": "80b3fd6e-0b66-45b6-c2e2-6b333256b373"
      },
      "execution_count": null,
      "outputs": [
        {
          "output_type": "display_data",
          "data": {
            "text/plain": [
              "<Figure size 640x480 with 1 Axes>"
            ],
            "image/png": "[encoded data removed]"
          },
          "metadata": {}
        }
      ]
    },
    {
      "cell_type": "markdown",
      "source": [
        "##Вывод:\n",
        "В обоих случаях память увеличивается по мере добавления элементов, но не линейно, а скачкообразно.\n",
        "Размер листа и словаря был увеличен в 4 раза, для получения более показательных результатов (в случай 4096 элементов график представляет собой горизонтальную прямую)\n",
        "\n",
        "Список: Python выделяет память не для каждого нового элемента, а блоками, чтобы уменьшить количество операций по выделению памяти. append работает следующим образом: в зависимости от уже присутствующего в списке количества элементов он заранее резервирует больше памяти при добавлении элемента. Дополнительно выделяемый объем памяти не всегда увеличивает список вдвое. Может быть выделено место всего под несколько элементов. Это позволяет избежать затрат на изменение размера списка при частых вызовах append. При этом неиспользуемая, но уже выделенная, память недоступна для чтения.\n",
        "\n",
        "Словарь:  При создании словаря выделяется место под несколько элементов, а не только после добавления элемента, как это было со списком. Таким образом, пустой словарь занимает больше места. Как и со списком, на каждую новую пару ключ-значение весь объект не перемещается в новый блок. Чтобы избежать частых затрат на перемещение, новый блок берется с запасом на несколько элементов."
      ],
      "metadata": {
        "id": "UPqwRXmUref9"
      }
    },
    {
      "cell_type": "markdown",
      "source": [
        "## 4. Переполняем стек вызовов"
      ],
      "metadata": {
        "id": "NEoLBPrSxw42"
      }
    },
    {
      "cell_type": "markdown",
      "source": [
        "Заполнение через рекурсию"
      ],
      "metadata": {
        "id": "QOyYmMC3A3PA"
      }
    },
    {
      "cell_type": "code",
      "source": [
        "import time\n",
        "import inspect\n",
        "import pandas as pd\n",
        "\n",
        "stack_size = []\n",
        "result = []\n",
        "def recursive_fill(n, result, stack_size):\n",
        "  while n>0:\n",
        "    result.append(n)\n",
        "    current_stack_size = len(inspect.stack())\n",
        "    stack_size.append(current_stack_size)\n",
        "    return recursive_fill(n-1, result, stack_size)\n",
        "  return stack_size\n",
        "\n",
        "start_time = time.time()\n",
        "stack_sizes = recursive_fill(4096, result, stack_size)\n",
        "end_time = time.time()\n",
        "duration = end_time - start_time\n",
        "\n",
        "df_stack_sizes = pd.DataFrame({'Итерация': range(1, 4097), 'Размер стека': stack_sizes})\n",
        "df_stack_sizes.head()\n",
        "df_stack_sizes.tail()\n",
        "\n",
        "print(f\"Время выполнения рекурсивного заполнения: {duration:} с\")"
      ],
      "metadata": {
        "colab": {
          "base_uri": "https://localhost:8080/",
          "height": 403
        },
        "id": "XjJ0WEOhraTK",
        "outputId": "53c78f2e-a474-4d1e-8617-fe4b56527f15"
      },
      "execution_count": null,
      "outputs": [
        {
          "output_type": "error",
          "ename": "RecursionError",
          "evalue": "maximum recursion depth exceeded while calling a Python object",
          "traceback": [
            "\u001b[0;31m---------------------------------------------------------------------------\u001b[0m",
            "\u001b[0;31mRecursionError\u001b[0m                            Traceback (most recent call last)",
            "\u001b[0;32m<ipython-input-3-d9223d8e27a6>\u001b[0m in \u001b[0;36m<cell line: 16>\u001b[0;34m()\u001b[0m\n\u001b[1;32m     14\u001b[0m \u001b[0;34m\u001b[0m\u001b[0m\n\u001b[1;32m     15\u001b[0m \u001b[0mstart_time\u001b[0m \u001b[0;34m=\u001b[0m \u001b[0mtime\u001b[0m\u001b[0;34m.\u001b[0m\u001b[0mtime\u001b[0m\u001b[0;34m(\u001b[0m\u001b[0;34m)\u001b[0m\u001b[0;34m\u001b[0m\u001b[0;34m\u001b[0m\u001b[0m\n\u001b[0;32m---> 16\u001b[0;31m \u001b[0mstack_sizes\u001b[0m \u001b[0;34m=\u001b[0m \u001b[0mrecursive_fill\u001b[0m\u001b[0;34m(\u001b[0m\u001b[0;36m4096\u001b[0m\u001b[0;34m,\u001b[0m \u001b[0mresult\u001b[0m\u001b[0;34m,\u001b[0m \u001b[0mstack_size\u001b[0m\u001b[0;34m)\u001b[0m\u001b[0;34m\u001b[0m\u001b[0;34m\u001b[0m\u001b[0m\n\u001b[0m\u001b[1;32m     17\u001b[0m \u001b[0mend_time\u001b[0m \u001b[0;34m=\u001b[0m \u001b[0mtime\u001b[0m\u001b[0;34m.\u001b[0m\u001b[0mtime\u001b[0m\u001b[0;34m(\u001b[0m\u001b[0;34m)\u001b[0m\u001b[0;34m\u001b[0m\u001b[0;34m\u001b[0m\u001b[0m\n\u001b[1;32m     18\u001b[0m \u001b[0mduration\u001b[0m \u001b[0;34m=\u001b[0m \u001b[0mend_time\u001b[0m \u001b[0;34m-\u001b[0m \u001b[0mstart_time\u001b[0m\u001b[0;34m\u001b[0m\u001b[0;34m\u001b[0m\u001b[0m\n",
            "\u001b[0;32m<ipython-input-3-d9223d8e27a6>\u001b[0m in \u001b[0;36mrecursive_fill\u001b[0;34m(n, result, stack_size)\u001b[0m\n\u001b[1;32m     10\u001b[0m     \u001b[0mcurrent_stack_size\u001b[0m \u001b[0;34m=\u001b[0m \u001b[0mlen\u001b[0m\u001b[0;34m(\u001b[0m\u001b[0minspect\u001b[0m\u001b[0;34m.\u001b[0m\u001b[0mstack\u001b[0m\u001b[0;34m(\u001b[0m\u001b[0;34m)\u001b[0m\u001b[0;34m)\u001b[0m\u001b[0;34m\u001b[0m\u001b[0;34m\u001b[0m\u001b[0m\n\u001b[1;32m     11\u001b[0m     \u001b[0mstack_size\u001b[0m\u001b[0;34m.\u001b[0m\u001b[0mappend\u001b[0m\u001b[0;34m(\u001b[0m\u001b[0mcurrent_stack_size\u001b[0m\u001b[0;34m)\u001b[0m\u001b[0;34m\u001b[0m\u001b[0;34m\u001b[0m\u001b[0m\n\u001b[0;32m---> 12\u001b[0;31m     \u001b[0;32mreturn\u001b[0m \u001b[0mrecursive_fill\u001b[0m\u001b[0;34m(\u001b[0m\u001b[0mn\u001b[0m\u001b[0;34m-\u001b[0m\u001b[0;36m1\u001b[0m\u001b[0;34m,\u001b[0m \u001b[0mresult\u001b[0m\u001b[0;34m,\u001b[0m \u001b[0mstack_size\u001b[0m\u001b[0;34m)\u001b[0m\u001b[0;34m\u001b[0m\u001b[0;34m\u001b[0m\u001b[0m\n\u001b[0m\u001b[1;32m     13\u001b[0m   \u001b[0;32mreturn\u001b[0m \u001b[0mstack_size\u001b[0m\u001b[0;34m\u001b[0m\u001b[0;34m\u001b[0m\u001b[0m\n\u001b[1;32m     14\u001b[0m \u001b[0;34m\u001b[0m\u001b[0m\n",
            "... last 1 frames repeated, from the frame below ...\n",
            "\u001b[0;32m<ipython-input-3-d9223d8e27a6>\u001b[0m in \u001b[0;36mrecursive_fill\u001b[0;34m(n, result, stack_size)\u001b[0m\n\u001b[1;32m     10\u001b[0m     \u001b[0mcurrent_stack_size\u001b[0m \u001b[0;34m=\u001b[0m \u001b[0mlen\u001b[0m\u001b[0;34m(\u001b[0m\u001b[0minspect\u001b[0m\u001b[0;34m.\u001b[0m\u001b[0mstack\u001b[0m\u001b[0;34m(\u001b[0m\u001b[0;34m)\u001b[0m\u001b[0;34m)\u001b[0m\u001b[0;34m\u001b[0m\u001b[0;34m\u001b[0m\u001b[0m\n\u001b[1;32m     11\u001b[0m     \u001b[0mstack_size\u001b[0m\u001b[0;34m.\u001b[0m\u001b[0mappend\u001b[0m\u001b[0;34m(\u001b[0m\u001b[0mcurrent_stack_size\u001b[0m\u001b[0;34m)\u001b[0m\u001b[0;34m\u001b[0m\u001b[0;34m\u001b[0m\u001b[0m\n\u001b[0;32m---> 12\u001b[0;31m     \u001b[0;32mreturn\u001b[0m \u001b[0mrecursive_fill\u001b[0m\u001b[0;34m(\u001b[0m\u001b[0mn\u001b[0m\u001b[0;34m-\u001b[0m\u001b[0;36m1\u001b[0m\u001b[0;34m,\u001b[0m \u001b[0mresult\u001b[0m\u001b[0;34m,\u001b[0m \u001b[0mstack_size\u001b[0m\u001b[0;34m)\u001b[0m\u001b[0;34m\u001b[0m\u001b[0;34m\u001b[0m\u001b[0m\n\u001b[0m\u001b[1;32m     13\u001b[0m   \u001b[0;32mreturn\u001b[0m \u001b[0mstack_size\u001b[0m\u001b[0;34m\u001b[0m\u001b[0;34m\u001b[0m\u001b[0m\n\u001b[1;32m     14\u001b[0m \u001b[0;34m\u001b[0m\u001b[0m\n",
            "\u001b[0;31mRecursionError\u001b[0m: maximum recursion depth exceeded while calling a Python object"
          ]
        }
      ]
    },
    {
      "cell_type": "code",
      "source": [
        "import sys\n",
        "sys.getrecursionlimit()"
      ],
      "metadata": {
        "id": "YtwDM2pBGaQm",
        "colab": {
          "base_uri": "https://localhost:8080/"
        },
        "outputId": "57f7f19b-4cc6-4d7d-e9c5-31a3e22c1222"
      },
      "execution_count": 1,
      "outputs": [
        {
          "output_type": "execute_result",
          "data": {
            "text/plain": [
              "1000"
            ]
          },
          "metadata": {},
          "execution_count": 1
        }
      ]
    },
    {
      "cell_type": "markdown",
      "source": [],
      "metadata": {
        "id": "l38PFPfrJeIT"
      }
    },
    {
      "cell_type": "markdown",
      "source": [
        "Заполнение через цикл"
      ],
      "metadata": {
        "id": "_9M_jD0jA-de"
      }
    },
    {
      "cell_type": "code",
      "source": [
        "import time\n",
        "def list_fill(n):\n",
        "    result = []\n",
        "    for i in range(1, n+1):\n",
        "        result.append(i)\n",
        "    return result\n",
        "\n",
        "start_time = time.time()\n",
        "iterative_list = list_fill(4096)\n",
        "end_time = time.time()\n",
        "cicle_duration = end_time - start_time\n",
        "\n",
        "print(f\"Время выполнения заполнения с использованием циклов: {cicle_duration:} с\")\n"
      ],
      "metadata": {
        "id": "YtySD-Jg3XSp",
        "colab": {
          "base_uri": "https://localhost:8080/"
        },
        "outputId": "55b203ca-8977-4f66-a0c3-65aab8ea1f87"
      },
      "execution_count": 3,
      "outputs": [
        {
          "output_type": "stream",
          "name": "stdout",
          "text": [
            "Время выполнения заполнения с использованием циклов: 0.0005979537963867188 с\n"
          ]
        }
      ]
    },
    {
      "cell_type": "markdown",
      "source": [
        "##Вывод:\n",
        "Ошибка при использовании рекурсии вызвана ограничением её глубины (максимального количества уровней рекурсивных вызовов). В данном случае глубина рекурсии ограничена значением 1000. Ограничение глубины рекурсии помогает предотвратить переполнение стека вызовов, что может привести к сбоям программы.\n",
        "\n",
        "Можно предположить, что время выполнения программы для 4096 элементов превысит 60 минут, тк 1000 вызовов функции заняла более 20 минут. Исходя из этого было приняло решение не увеличивать ограничение глубины рекурсии.\n",
        "\n",
        "Время выполнения программы с использованием цикла составило 0.00059795 с.\n",
        "\n",
        "Таким образом, накладные расходы по времени на вызов функций и работу со стеком вызовов могут существенно влиять на производительность, особенно при больших количествах рекурсивных вызовов. Использование циклов для таких задач является более эффективным и предпочтительным подходом."
      ],
      "metadata": {
        "id": "1Bu7erEOJPl_"
      }
    }
  ]
}